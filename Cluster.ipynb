{
 "cells": [
  {
   "cell_type": "code",
   "execution_count": 1,
   "metadata": {},
   "outputs": [
    {
     "name": "stdout",
     "output_type": "stream",
     "text": [
      "2020-09-16 21:46:16.138491\n"
     ]
    }
   ],
   "source": [
    "import pandas as pd\n",
    "import numpy as np\n",
    "import matplotlib.pyplot as plt  \n",
    "import seaborn as sns\n",
    "from matplotlib.ticker import AutoMinorLocator, MultipleLocator\n",
    "from tqdm import tqdm\n",
    "from sklearn.decomposition import PCA\n",
    "from kneed import DataGenerator, KneeLocator\n",
    "from sklearn.metrics import silhouette_score\n",
    "from sklearn import metrics\n",
    "from datetime import datetime\n",
    "import time\n",
    "import os\n",
    "plt.rcParams['font.family'] = \"Times New Roman\"\n",
    "print(datetime.now())"
   ]
  },
  {
   "cell_type": "code",
   "execution_count": 2,
   "metadata": {},
   "outputs": [],
   "source": [
    "#dataset loading\n",
    "# keep first entry of list l1 and l2 empty string.\n",
    "l1 = [\"\",\"RMSD_4ey4_1.csv\",\"RMSD_4ey5_1.csv\",\"RMSD_4ey6_1.csv\",\"RMSD_4ey7_1.csv\"]\n",
    "l2 = [\"\",\"4ey4\",\"4ey5\",\"4ey6\",\"4ey7\"]\n",
    "for i in range(1,5,1):\n",
    "    globals()['d'+str(i)] = pd.read_csv(l1[i])\n",
    "    globals()['X'+str(i)] = globals()['d'+str(i)].iloc[:,1:]\n",
    "m = len(l1)\n",
    "os.chdir('./data/')"
   ]
  },
  {
   "cell_type": "code",
   "execution_count": 3,
   "metadata": {},
   "outputs": [],
   "source": [
    "#PCA\n",
    "file = open(\"log.txt\",'w')\n",
    "pca = PCA(n_components = 5)\n",
    "for i in range(1,5,1):\n",
    "    globals()['X_'+str(i)] = pca.fit_transform(globals()['X'+str(i)])\n",
    "    file.write(l1[i][0:-4])\n",
    "    file.write(f'\\nX_{str(i)}')\n",
    "    file.write(f'\\npca.explained_variance_ratio sum of 5 features : {(sum(pca.explained_variance_ratio_*100))}' )\n",
    "    file.write(f'\\nExplainedratio of indicidua  components : {pca.explained_variance_ratio_*100}')\n",
    "    file.write('\\n--------------------------------------------------------\\n')\n",
    "file.close()    "
   ]
  },
  {
   "cell_type": "code",
   "execution_count": null,
   "metadata": {},
   "outputs": [],
   "source": [
    "#K_mean\n",
    "from sklearn.cluster import KMeans \n",
    "df_result =  pd.DataFrame()\n",
    "file = open(\"log.txt\",'a')\n",
    "fig, ax = plt.subplots()\n",
    "plt.xlabel(\"Value of K\") \n",
    "plt.ylabel(\"Sqaured Error (Cost)\") \n",
    "ax.spines['right'].set_visible(False)\n",
    "ax.spines['top'].set_visible(False)\n",
    "ax.yaxis.set_ticks_position('left')\n",
    "ax.xaxis.set_ticks_position('bottom')\n",
    "plt.xticks(np.arange(0, 25, step=1))\n",
    "color =['grey','darkorchid','gold','deepskyblue','darkorange']\n",
    "\n",
    "\n",
    "for i in tqdm(range(1,m,1)):\n",
    "    globals()['cost_'+str(i)] =[] \n",
    "    for j in range(1, 26): \n",
    "        Km = KMeans(n_clusters = j) \n",
    "        Km.fit(globals()['X_'+str(i)]) \n",
    "        globals()['cost_'+str(i)].append(Km.inertia_)        \n",
    "    time.sleep(0.5)\n",
    "    plt.plot(range(1, 26), globals()['cost_'+str(i)], color = color[i], linewidth ='2')\n",
    "    kneedle = KneeLocator(range(1, 26), globals()['cost_'+str(i)], S=1.0, curve=\"convex\", direction=\"decreasing\")\n",
    "    file.write(l1[i][0:-4])\n",
    "    file.write(f\"\\nThe selected value of K is {(round(kneedle.knee, 3))} \\n\")\n",
    "    v1 = (round(kneedle.knee, 3))\n",
    "    Km = KMeans(n_clusters = v1) \n",
    "    Km.fit(globals()['X_'+str(i)]) \n",
    "    labels = Km.labels_\n",
    "    score1 = silhouette_score(globals()['X_'+str(i)], labels)\n",
    "    score2 = metrics.calinski_harabasz_score(globals()['X_'+str(i)], labels)\n",
    "    score3 = metrics.davies_bouldin_score(globals()['X_'+str(i)], labels)\n",
    "    file.write(f\"The slihoutte value for {v1} is silhoette score: {(round(score1, 3))}, calinski_harabasz score: {(round(score2, 3))},\\\n",
    "    davies_bouldin score: {(round(score3, 3))}. \\n\")\n",
    "    df_result = df_result.append({'PDB':l2[i],'Number of clusters' : v1, 'Silhouette coefficient':(round(score1, 3)),'Calinski Harabasz score': (round(score2, 3)),\\\n",
    "    'Davies Bouldin score': (round(score3, 3))}, ignore_index = True)\n",
    "    \n",
    "plt.savefig('kmean.jpeg', dpi = 600)\n",
    "plt.show() # clear the plot \n",
    "\n",
    "df_result.to_csv(\"Kmean_final.csv\", mode = 'w')\n",
    "file.close()    "
   ]
  },
  {
   "cell_type": "code",
   "execution_count": null,
   "metadata": {
    "jupyter": {
     "source_hidden": true
    }
   },
   "outputs": [],
   "source": [
    "from sklearn.neighbors import NearestNeighbors\n",
    "neigh = NearestNeighbors(n_neighbors=2)\n",
    "for i in range(1,5,1):\n",
    "    nbrs = neigh.fit(globals()['X_'+str(i)])\n",
    "    distances, indices = nbrs.kneighbors(globals()['X_'+str(i)] )\n",
    "    distances = np.sort(distances, axis=0)\n",
    "    distances = distances[:,1]\n",
    "    plt.plot(distances)\n",
    "plt.savefig('knn.jpeg')\n",
    "plt.show() # clear the plot \n"
   ]
  },
  {
   "cell_type": "code",
   "execution_count": null,
   "metadata": {
    "jupyter": {
     "source_hidden": true
    }
   },
   "outputs": [],
   "source": [
    "#DBSCAN ver 2\n",
    "from sklearn.cluster import DBSCAN\n",
    "list1 = ['euclidean','cityblock', 'cosine',  'l1', 'l2', 'manhattan']\n",
    "list2 = np.arange(0.10 ,1.6, 0.10)\n",
    "list3 = [5,10,15,20,25,30,40,50]\n",
    "\n",
    "df_result = pd.DataFrame()\n",
    "for i1 in range(1,m,1):\n",
    "    df2 = pd.DataFrame()\n",
    "    df2_ = pd.DataFrame()\n",
    "    for i in tqdm(list1):\n",
    "        df3 = pd.DataFrame()\n",
    "        for j in list2:\n",
    "            for k in list3:\n",
    "                clustering = DBSCAN(eps = j, min_samples = k, metric =i)\n",
    "                labels = clustering.fit_predict(globals()['X_'+str(i1)])\n",
    "                nCluster = len(set(labels))-(1 if -1 in labels else 0)\n",
    "                n_noise = list(labels).count(-1)\n",
    "                if nCluster == 0:\n",
    "                    df2 = df2.append({'Distance Metric': i, 'epsilon': round(j,2), 'Number of samples':int(k), \\\n",
    "                                      'Silhouette coefficient': -1, 'Number of clusters' : nCluster, \"Noise\": n_noise}, \\\n",
    "                                     ignore_index = True)\n",
    "                    df3 = df3.append({'Distance Metric': i, 'epsilon': round(j,2), 'Number of samples':int(k), \\\n",
    "                                      'Silhouette coefficient': -1, 'Number of clusters' : nCluster, \"Noise\": n_noise}, \\\n",
    "                                     ignore_index = True)\n",
    "                elif nCluster == 1 :\n",
    "                    df2 = df2.append({'Distance Metric': i, 'epsilon': round(j,2), 'Number of samples':int(k), \\\n",
    "                                      'Silhouette coefficient': 0, 'Number of clusters' : nCluster, \"Noise\": n_noise}, \\\n",
    "                                     ignore_index = True)\n",
    "                    df3 = df3.append({'Distance Metric': i, 'epsilon': round(j,2), 'Number of samples':int(k), \\\n",
    "                                      'Silhouette coefficient': 0, 'Number of clusters' : nCluster, \"Noise\": n_noise}, \\\n",
    "                                     ignore_index = True)\n",
    "                else:\n",
    "                    score = silhouette_score(X1, labels, metric=i)\n",
    "                    df2 = df2.append({'Distance Metric': i, 'epsilon': round(j,2), 'Number of samples':int(k), \\\n",
    "                                      'Silhouette coefficient': round(score,3), 'Number of clusters' : nCluster, \\\n",
    "                                      \"Noise\": n_noise}, ignore_index = True)\n",
    "                    df3 = df3.append({'Distance Metric': i, 'epsilon': round(j,2), 'Number of samples':int(k), \\\n",
    "                                      'Silhouette coefficient': round(score,3), 'Number of clusters' : nCluster, \\\n",
    "                                      \"Noise\": n_noise}, ignore_index = True)\n",
    "        df3_ = pd.DataFrame()           \n",
    "        df3_ = df3[['epsilon', 'Number of samples', 'Silhouette coefficient']]\n",
    "        convert_dict = {'Number of samples': int} \n",
    "        df3_ = df3_.astype(convert_dict)         \n",
    "        \n",
    "        heatmap1_data = pd.pivot_table(df3_, values='Silhouette coefficient' ,index=['epsilon'], columns='Number of samples')\n",
    "        sns.set()\n",
    "        ob = sns.color_palette(\"Pastel1_r\", as_cmap=True)\n",
    "        sns.heatmap(heatmap1_data, cmap= ob, annot=True, fmt=\".2f\", annot_kws={'size':5, 'fontfamily': \"Times New Roman\"},\\\n",
    "             cbar=False, square=True,  linewidths=1, linecolor='white')\n",
    "        plt.title(str(i), size = 10,fontfamily = \"Times New Roman\")\n",
    "        plt.xlabel('Number of samples', size = 8,fontweight='bold',fontfamily = \"Times New Roman\")\n",
    "        plt.xticks(fontsize=6,rotation='horizontal',fontfamily = \"Times New Roman\")  \n",
    "        \n",
    "        if i == list1[0]:\n",
    "            plt.ylabel('epsilon', size = 8,fontweight='bold',fontfamily = \"Times New Roman\")\n",
    "            plt.yticks(fontsize=6,rotation='horizontal',fontfamily = \"Times New Roman\")\n",
    "        else:\n",
    "            plt.ylabel('', size = 0 )\n",
    "            plt.yticks([])\n",
    "            \n",
    "        str2 = ('{}_{}.jpeg'.format(l2[i1], i))\n",
    "        if os.path.isfile(str2):\n",
    "            os.remove(str2)  \n",
    "        plt.savefig(str2, format ='jpeg',dpi = 600, bbox_inches='tight',pad_inches=0.0)\n",
    "        plt.close()\n",
    "        \n",
    "    str1 = l2[i1]+'_Dbscan.csv'\n",
    "    df2_ = df2.nlargest(1,'Silhouette coefficient',keep='first')\n",
    "    clustering = DBSCAN(eps = df2_.iloc[0]['epsilon'], min_samples = df2_.iloc[0]['Number of samples'], metric = df2_.iloc[0]['Distance Metric'])\n",
    "    labels = clustering.fit_predict(globals()['X_'+str(i1)])\n",
    "    nCluster = len(set(labels))-(1 if -1 in labels else 0)\n",
    "    n_noise = list(labels).count(-1)\n",
    "    score1 = silhouette_score(globals()['X_'+str(i1)], labels, metric=df2_.iloc[0]['Distance Metric'])\n",
    "    score2 = metrics.calinski_harabasz_score(globals()['X_'+str(i1)], labels)\n",
    "    score3 = metrics.davies_bouldin_score(globals()['X_'+str(i1)], labels)\n",
    "    df_result = df_result.append({'Silhouette score': (round(score1, 3)), 'Calinski Harabasz score': (round(score2, 3)),\\\n",
    "                                  'Davies Bouldin score': (round(score3, 3)), 'Distance Metric': df2_.iloc[0]['Distance Metric'], 'epsilon': df2_.iloc[0]['epsilon'], \\\n",
    "                                  'Number of samples':df2_.iloc[0]['Number of samples'], \"Clusters\" : nCluster, 'Noise': n_noise, \"PDB\": l2[i1]\\\n",
    "                                 }, ignore_index = True )\n",
    "    df2.to_csv(str1, mode ='w')\n",
    "    \n",
    "df_result.to_csv(\"DBSCAN_final.csv\", mode ='w')"
   ]
  },
  {
   "cell_type": "code",
   "execution_count": null,
   "metadata": {
    "jupyter": {
     "source_hidden": true
    }
   },
   "outputs": [],
   "source": [
    "#Agglomerative clustering\n",
    "df_result = pd.DataFrame()\n",
    "from sklearn.cluster import AgglomerativeClustering\n",
    "\n",
    "list1 = ['euclidean', 'l1', 'l2', 'manhattan','cosine']\n",
    "list2 = ['ward', 'average', 'complete', 'single']\n",
    "list3 = range(2, 26,1)\n",
    "df_result = pd.DataFrame()\n",
    "for i1 in range(1,m,1):\n",
    "    df3 = pd.DataFrame()\n",
    "    df3_ = pd.DataFrame()\n",
    "    df2_ = pd.DataFrame()\n",
    "    for i in tqdm(list1):\n",
    "        for j in list2:\n",
    "            for k in list3:\n",
    "                if i == 'l1' or i == 'l2' or i == 'manhattan' or i == 'cosine' and j == 'ward':\n",
    "                    df3 = df3.append({'Number of clusters': k, 'Distance matrix': i, 'Linkage':j, 'Silhouette coefficient': 'NA'}, ignore_index = True)\n",
    "                else:\n",
    "                    clustering = AgglomerativeClustering(n_clusters= k, affinity = i, linkage= j)\n",
    "                    labels = clustering.fit_predict(globals()['X_'+str(i1)])\n",
    "                    nCluster = len(set(labels))-(1 if -1 in labels else 0)\n",
    "                    if len(np.unique(labels)) == 1:\n",
    "                        df3 = df3.append({'Number of clusters': k, 'Distance matrix': i, 'Linkage':j, 'Silhouette coefficient': 0}, ignore_index = True)\n",
    "                        print(len(np.unique(labels)))\n",
    "                    else:\n",
    "                        score = silhouette_score(globals()['X_'+str(i1)], labels, metric=i)\n",
    "                        df3 = df3.append({'Number of clusters': k, 'Distance matrix': i, 'Linkage':j,  'Silhouette coefficient': round(score,3)}, ignore_index = True)\n",
    "    str1 = l2[i]+\"_Heir.csv\"\n",
    "    df3_.to_csv(str1, mode = 'w')\n",
    "    df2_ = df3.nlargest(1,'Silhouette coefficient',keep='first')\n",
    "    clustering = AgglomerativeClustering(n_clusters= df2_.iloc[0]['Number of clusters'], affinity = df2_.iloc[0]['Distance matrix'],\\\n",
    "                                         linkage= df2_.iloc[0]['Linkage'])\n",
    "    labels = clustering.fit_predict(globals()['X_'+str(i1)])\n",
    "    nCluster = len(set(labels))-(1 if -1 in labels else 0)\n",
    "    print(n_cluster)\n",
    "    n_noise = list(labels).count(-1)\n",
    "    score1 = silhouette_score(globals()['X_'+str(i1)], labels)\n",
    "    score2 = metrics.calinski_harabasz_score(globals()['X_'+str(i1)], labels)\n",
    "    score3 = metrics.davies_bouldin_score(globals()['X_'+str(i1)], labels)\n",
    "    df_result = df_result.append({'Silhouette score': (round(score1, 3)), 'Calinski Harabasz score': (round(score2, 3)),\\\n",
    "                                  'Davies Bouldin score': (round(score3, 3)), 'Affinity': df2_.iloc[0]['Distance matrix'], 'linkage': df2_.iloc[0]['Linkage'], \\\n",
    "                                  'Number of clusters':df2_.iloc[0]['Number of clusters'], 'Noise': n_noise, \"PDB\": l2[i1]\\\n",
    "                                 }, ignore_index = True )\n",
    "                \n",
    "        \n",
    "df_result.to_csv('Heirachial_final.csv', mode ='w')"
   ]
  },
  {
   "cell_type": "code",
   "execution_count": 7,
   "metadata": {},
   "outputs": [
    {
     "name": "stderr",
     "output_type": "stream",
     "text": [
      "\n",
      "\n",
      "  0%|                                                                                            | 0/5 [00:00<?, ?it/s]\u001b[A\u001b[A"
     ]
    },
    {
     "data": {
      "image/png": "[encoded data removed]",
      "text/plain": [
       "<Figure size 432x288 with 1 Axes>"
      ]
     },
     "metadata": {
      "needs_background": "light"
     },
     "output_type": "display_data"
    },
    {
     "name": "stderr",
     "output_type": "stream",
     "text": [
      "\n",
      "\n",
      " 20%|████████████████▊                                                                   | 1/5 [00:47<03:10, 47.70s/it]\u001b[A\u001b[A"
     ]
    },
    {
     "data": {
      "image/png": "[encoded data removed]",
      "text/plain": [
       "<Figure size 432x288 with 1 Axes>"
      ]
     },
     "metadata": {
      "needs_background": "light"
     },
     "output_type": "display_data"
    },
    {
     "name": "stderr",
     "output_type": "stream",
     "text": [
      "\n",
      "\n",
      " 40%|█████████████████████████████████▌                                                  | 2/5 [01:09<02:00, 40.06s/it]\u001b[A\u001b[A"
     ]
    },
    {
     "data": {
      "image/png": "[encoded data removed]",
      "text/plain": [
       "<Figure size 432x288 with 1 Axes>"
      ]
     },
     "metadata": {
      "needs_background": "light"
     },
     "output_type": "display_data"
    },
    {
     "name": "stderr",
     "output_type": "stream",
     "text": [
      "\n",
      "\n",
      " 60%|██████████████████████████████████████████████████▍                                 | 3/5 [01:44<01:16, 38.47s/it]\u001b[A\u001b[A"
     ]
    },
    {
     "data": {
      "image/png": "[encoded data removed]",
      "text/plain": [
       "<Figure size 432x288 with 1 Axes>"
      ]
     },
     "metadata": {
      "needs_background": "light"
     },
     "output_type": "display_data"
    },
    {
     "name": "stderr",
     "output_type": "stream",
     "text": [
      "\n",
      "\n",
      " 80%|███████████████████████████████████████████████████████████████████▏                | 4/5 [02:07<00:33, 33.63s/it]\u001b[A\u001b[A"
     ]
    },
    {
     "data": {
      "image/png": "[encoded data removed]",
      "text/plain": [
       "<Figure size 432x288 with 1 Axes>"
      ]
     },
     "metadata": {
      "needs_background": "light"
     },
     "output_type": "display_data"
    },
    {
     "name": "stderr",
     "output_type": "stream",
     "text": [
      "\n",
      "\n",
      "100%|████████████████████████████████████████████████████████████████████████████████████| 5/5 [02:47<00:00, 33.51s/it]\u001b[A\u001b[A\n"
     ]
    },
    {
     "data": {
      "text/plain": [
       "'    df2_ = df3.nlargest(1,\\'Silhouette coefficient\\',keep=\\'first\\')\\n    clustering = AgglomerativeClustering(n_clusters= df2_.iloc[0][\\'Number of clusters\\'], affinity = df2_.iloc[0][\\'Distance matrix\\'],                                         linkage= df2_.iloc[0][\\'Linkage\\'])\\n    labels = clustering.fit_predict(globals()[\\'X_\\'+str(i1)])\\n    score1 = silhouette_score(globals()[\\'X_\\'+str(i1)], labels)\\n    score2 = metrics.calinski_harabasz_score(globals()[\\'X_\\'+str(i1)], labels)\\n    score3 = metrics.davies_bouldin_score(globals()[\\'X_\\'+str(i1)], labels)\\n    df_result = df_result.append({\\'Silhouette score\\': (round(score1, 3)), \\'Calinski Harabasz score\\': (round(score2, 3)),                                  \\'Davies Bouldin score\\': (round(score3, 3)), \\'Affinity\\': df2_.iloc[0][\\'Distance matrix\\'], \\'linkage\\': df2_.iloc[0][\\'Linkage\\'],                                   \\'Number of clusters\\':df2_.iloc[0][\\'Number of clusters\\'], \\'Noise\\': n_noise, \"PDB\": l2[i1]                                 }, ignore_index = True )\\n                \\n        \\ndf_result.to_csv(\\'Heirachial_final.csv\\', mode =\\'w\\')'"
      ]
     },
     "execution_count": 7,
     "metadata": {},
     "output_type": "execute_result"
    }
   ],
   "source": [
    "#Agglomerative clustering ver2\n",
    "df_result = pd.DataFrame()\n",
    "from sklearn.cluster import AgglomerativeClustering\n",
    "\n",
    "list1 = ['euclidean', 'l1', 'l2', 'manhattan','cosine']\n",
    "list2 = ['ward', 'average', 'complete', 'single']\n",
    "list3 = range(2, 26,1)\n",
    "df_result = pd.DataFrame()\n",
    "for i1 in range(1,2,1):\n",
    "    df3 = pd.DataFrame()\n",
    "    df3_ = pd.DataFrame()\n",
    "    df2_ = pd.DataFrame()\n",
    "    \n",
    "    \n",
    "    for i in tqdm(list1):\n",
    "        fig, ax = plt.subplots()\n",
    "        ax.set_xlabel(\"Number of clusters\")\n",
    "        ax.set_ylabel(\"Silhoette coefficient\")\n",
    "        ax.spines['right'].set_visible(False)\n",
    "        ax.spines['top'].set_visible(False)\n",
    "        ax.yaxis.set_ticks_position('left')\n",
    "        ax.xaxis.set_ticks_position('bottom')\n",
    "        ax.xaxis.set_major_locator(MultipleLocator(1))\n",
    "        ax.yaxis.set_minor_locator(AutoMinorLocator(9))\n",
    "        labeling =[]\n",
    "        \n",
    "        for j in list2:\n",
    "            df2 = pd.DataFrame()\n",
    "            if (i == 'l1' and j == 'ward') or (i == 'l2' and j == 'ward') or (i == 'manhattan' and j == 'ward') or (i == 'cosine' and j == 'ward'):\n",
    "                #df3 = df3.append({'Number of clusters': k, 'Distance matrix': i, 'Linkage':j, 'Silhouette coefficient': 'NA'}, ignore_index = True)\n",
    "                pass\n",
    "                    \n",
    "            else: \n",
    "                for k in list3:\n",
    "                    clustering = AgglomerativeClustering(n_clusters= k, affinity = i, linkage= j)\n",
    "                    labels = clustering.fit_predict(globals()['X_'+str(i1)])\n",
    "                    score = silhouette_score(globals()['X_'+str(i1)], labels, metric=i)\n",
    "                    df2 = df2.append({'Number of clusters': k, 'Distance matrix': i, 'Linkage':j, \\\n",
    "                                      'Silhouette coefficient': round(score,3)}, ignore_index = True)\n",
    "                    df3 = df3.append({'Number of clusters': k, 'Distance matrix': i, 'Linkage':j, \\\n",
    "                                      'Silhouette coefficient': round(score,3)}, ignore_index = True)\n",
    "                plt.plot(df2['Number of clusters'],df2['Silhouette coefficient'],  marker  ='o', linewidth =1)\n",
    "                labeling.append(str(i+' '+j))\n",
    "\n",
    "        lg = ax.legend(labeling, title='Kernel', bbox_to_anchor=(0.5, -0.5), loc=10, fontsize = 12, ncol=2)\n",
    "        plt.show()\n",
    "        plt.close()\n",
    "    str1 = str(l2[i1])+\"_Heir.csv\"\n",
    "    df3.to_csv(str1, mode = 'w')\n",
    "    \n",
    "    \n",
    "    \n",
    "    \n",
    "    \n",
    "    \n",
    "'''    df2_ = df3.nlargest(1,'Silhouette coefficient',keep='first')\n",
    "    clustering = AgglomerativeClustering(n_clusters= df2_.iloc[0]['Number of clusters'], affinity = df2_.iloc[0]['Distance matrix'],\\\n",
    "                                         linkage= df2_.iloc[0]['Linkage'])\n",
    "    labels = clustering.fit_predict(globals()['X_'+str(i1)])\n",
    "    score1 = silhouette_score(globals()['X_'+str(i1)], labels)\n",
    "    score2 = metrics.calinski_harabasz_score(globals()['X_'+str(i1)], labels)\n",
    "    score3 = metrics.davies_bouldin_score(globals()['X_'+str(i1)], labels)\n",
    "    df_result = df_result.append({'Silhouette score': (round(score1, 3)), 'Calinski Harabasz score': (round(score2, 3)),\\\n",
    "                                  'Davies Bouldin score': (round(score3, 3)), 'Affinity': df2_.iloc[0]['Distance matrix'], 'linkage': df2_.iloc[0]['Linkage'], \\\n",
    "                                  'Number of clusters':df2_.iloc[0]['Number of clusters'], 'Noise': n_noise, \"PDB\": l2[i1]\\\n",
    "                                 }, ignore_index = True )\n",
    "                \n",
    "        \n",
    "df_result.to_csv('Heirachial_final.csv', mode ='w')'''"
   ]
  },
  {
   "cell_type": "code",
   "execution_count": 8,
   "metadata": {},
   "outputs": [
    {
     "name": "stderr",
     "output_type": "stream",
     "text": [
      "\n",
      "\n",
      "  0%|                                                                                            | 0/6 [00:00<?, ?it/s]\u001b[A\u001b[A\n",
      "\n",
      " 17%|██████████████                                                                      | 1/6 [00:13<01:08, 13.62s/it]\u001b[A\u001b[A"
     ]
    },
    {
     "name": "stdout",
     "output_type": "stream",
     "text": [
      "89\n",
      "0.119\n"
     ]
    },
    {
     "name": "stderr",
     "output_type": "stream",
     "text": [
      "\n",
      "\n",
      " 33%|████████████████████████████                                                        | 2/6 [00:27<00:54, 13.71s/it]\u001b[A\u001b[A"
     ]
    },
    {
     "name": "stdout",
     "output_type": "stream",
     "text": [
      "89\n",
      "0.119\n"
     ]
    },
    {
     "name": "stderr",
     "output_type": "stream",
     "text": [
      "\n",
      "\n",
      " 50%|██████████████████████████████████████████                                          | 3/6 [00:53<00:51, 17.28s/it]\u001b[A\u001b[A"
     ]
    },
    {
     "name": "stdout",
     "output_type": "stream",
     "text": [
      "88\n",
      "0.12\n"
     ]
    },
    {
     "name": "stderr",
     "output_type": "stream",
     "text": [
      "\n",
      "\n",
      " 67%|████████████████████████████████████████████████████████                            | 4/6 [01:16<00:38, 19.13s/it]\u001b[A\u001b[A"
     ]
    },
    {
     "name": "stdout",
     "output_type": "stream",
     "text": [
      "88\n",
      "0.119\n"
     ]
    },
    {
     "name": "stderr",
     "output_type": "stream",
     "text": [
      "\n",
      "\n",
      " 83%|██████████████████████████████████████████████████████████████████████              | 5/6 [01:43<00:21, 21.37s/it]\u001b[A\u001b[A"
     ]
    },
    {
     "name": "stdout",
     "output_type": "stream",
     "text": [
      "90\n",
      "0.118\n"
     ]
    },
    {
     "name": "stderr",
     "output_type": "stream",
     "text": [
      "\n",
      "\n",
      "100%|████████████████████████████████████████████████████████████████████████████████████| 6/6 [02:33<00:00, 25.62s/it]\u001b[A\u001b[A"
     ]
    },
    {
     "name": "stdout",
     "output_type": "stream",
     "text": [
      "90\n",
      "0.119\n"
     ]
    },
    {
     "name": "stderr",
     "output_type": "stream",
     "text": [
      "\n"
     ]
    }
   ],
   "source": [
    "from sklearn.cluster import AffinityPropagation\n",
    "sc = []\n",
    "for i in tqdm([0.5,0.6,0.7,0.8,0.9, 0.95]):\n",
    "    af = AffinityPropagation(damping = i, max_iter = 1000).fit(X1)\n",
    "    cluster_centers_indices = af.cluster_centers_indices_\n",
    "    labels = af.labels_\n",
    "    if len(np.unique(labels)) == 1:\n",
    "        pass\n",
    "    else:\n",
    "        score = round(silhouette_score(X1, labels),3)\n",
    "        sc.append(score)\n",
    "        nCluster = len(set(labels))-(1 if -1 in labels else 0)\n",
    "        print(nCluster)\n",
    "        print(score)"
   ]
  },
  {
   "cell_type": "code",
   "execution_count": 12,
   "metadata": {},
   "outputs": [
    {
     "name": "stderr",
     "output_type": "stream",
     "text": [
      "\n",
      "\n",
      "\n",
      "  0%|                                                                                           | 0/24 [00:00<?, ?it/s]\u001b[A\u001b[A\u001b[A\n",
      "\n",
      "\n",
      "  4%|███▍                                                                               | 1/24 [00:02<00:46,  2.03s/it]\u001b[A\u001b[A\u001b[A\n",
      "\n",
      "\n",
      "  8%|██████▉                                                                            | 2/24 [00:03<00:43,  1.99s/it]\u001b[A\u001b[A\u001b[A\n",
      "\n",
      "\n",
      " 12%|██████████▍                                                                        | 3/24 [00:05<00:41,  1.99s/it]\u001b[A\u001b[A\u001b[A\n",
      "\n",
      "\n",
      " 17%|█████████████▊                                                                     | 4/24 [00:07<00:39,  1.96s/it]\u001b[A\u001b[A\u001b[A\n",
      "\n",
      "\n",
      " 21%|█████████████████▎                                                                 | 5/24 [00:09<00:37,  1.98s/it]\u001b[A\u001b[A\u001b[A\n",
      "\n",
      "\n",
      " 25%|████████████████████▊                                                              | 6/24 [00:11<00:35,  1.98s/it]\u001b[A\u001b[A\u001b[A\n",
      "\n",
      "\n",
      " 29%|████████████████████████▏                                                          | 7/24 [00:13<00:33,  1.96s/it]\u001b[A\u001b[A\u001b[A\n",
      "\n",
      "\n",
      " 33%|███████████████████████████▋                                                       | 8/24 [00:15<00:30,  1.94s/it]\u001b[A\u001b[A\u001b[A\n",
      "\n",
      "\n",
      " 38%|███████████████████████████████▏                                                   | 9/24 [00:17<00:29,  1.98s/it]\u001b[A\u001b[A\u001b[A\n",
      "\n",
      "\n",
      " 42%|██████████████████████████████████▏                                               | 10/24 [00:19<00:28,  2.03s/it]\u001b[A\u001b[A\u001b[A\n",
      "\n",
      "\n",
      " 46%|█████████████████████████████████████▌                                            | 11/24 [00:21<00:26,  2.02s/it]\u001b[A\u001b[A\u001b[A\n",
      "\n",
      "\n",
      " 50%|█████████████████████████████████████████                                         | 12/24 [00:23<00:24,  2.04s/it]\u001b[A\u001b[A\u001b[A\n",
      "\n",
      "\n",
      " 54%|████████████████████████████████████████████▍                                     | 13/24 [00:26<00:23,  2.10s/it]\u001b[A\u001b[A\u001b[A\n",
      "\n",
      "\n",
      " 58%|███████████████████████████████████████████████▊                                  | 14/24 [00:28<00:21,  2.17s/it]\u001b[A\u001b[A\u001b[A\n",
      "\n",
      "\n",
      " 62%|███████████████████████████████████████████████████▎                              | 15/24 [00:30<00:20,  2.24s/it]\u001b[A\u001b[A\u001b[A\n",
      "\n",
      "\n",
      " 67%|██████████████████████████████████████████████████████▋                           | 16/24 [00:33<00:18,  2.29s/it]\u001b[A\u001b[A\u001b[A\n",
      "\n",
      "\n",
      " 71%|██████████████████████████████████████████████████████████                        | 17/24 [00:35<00:16,  2.32s/it]\u001b[A\u001b[A\u001b[A\n",
      "\n",
      "\n",
      " 75%|█████████████████████████████████████████████████████████████▌                    | 18/24 [00:38<00:13,  2.32s/it]\u001b[A\u001b[A\u001b[A\n",
      "\n",
      "\n",
      " 79%|████████████████████████████████████████████████████████████████▉                 | 19/24 [00:40<00:11,  2.27s/it]\u001b[A\u001b[A\u001b[A\n",
      "\n",
      "\n",
      " 83%|████████████████████████████████████████████████████████████████████▎             | 20/24 [00:42<00:09,  2.35s/it]\u001b[A\u001b[A\u001b[A\n",
      "\n",
      "\n",
      " 88%|███████████████████████████████████████████████████████████████████████▊          | 21/24 [00:44<00:06,  2.32s/it]\u001b[A\u001b[A\u001b[A\n",
      "\n",
      "\n",
      " 92%|███████████████████████████████████████████████████████████████████████████▏      | 22/24 [00:47<00:04,  2.30s/it]\u001b[A\u001b[A\u001b[A\n",
      "\n",
      "\n",
      " 96%|██████████████████████████████████████████████████████████████████████████████▌   | 23/24 [00:49<00:02,  2.29s/it]\u001b[A\u001b[A\u001b[A\n",
      "\n",
      "\n",
      "100%|██████████████████████████████████████████████████████████████████████████████████| 24/24 [00:51<00:00,  2.16s/it]\u001b[A\u001b[A\u001b[A"
     ]
    },
    {
     "name": "stdout",
     "output_type": "stream",
     "text": [
      "    Silhouette  clusters\n",
      "0        0.488       2.0\n",
      "1        0.464       3.0\n",
      "2        0.365       4.0\n",
      "3        0.357       5.0\n",
      "4        0.345       6.0\n",
      "5        0.343       7.0\n",
      "6        0.332       8.0\n",
      "7        0.330       9.0\n",
      "8        0.326      10.0\n",
      "9        0.301      11.0\n",
      "10       0.279      12.0\n",
      "11       0.261      13.0\n",
      "12       0.252      14.0\n",
      "13       0.249      15.0\n",
      "14       0.241      16.0\n",
      "16       0.241      18.0\n",
      "15       0.240      17.0\n",
      "17       0.239      19.0\n",
      "18       0.238      20.0\n",
      "23       0.235      25.0\n"
     ]
    },
    {
     "name": "stderr",
     "output_type": "stream",
     "text": [
      "\n"
     ]
    }
   ],
   "source": [
    "#Spectral Clusterig\n",
    "df3 = pd.DataFrame()\n",
    "from sklearn.cluster import SpectralClustering\n",
    "\n",
    "for i in tqdm(range(2, 26,1)):\n",
    "    clustering = SpectralClustering(n_clusters=i,\n",
    "        assign_labels=\"discretize\",\n",
    "        random_state=0).fit(globals()['X_'+str(1)])\n",
    "    labels = clustering.labels_\n",
    "    nCluster = len(set(labels))-(1 if -1 in labels else 0)\n",
    "    score = silhouette_score(X_1, labels)\n",
    "    df3 = df3.append({'clusters': nCluster, 'Silhouette': round(score,3)}, ignore_index = True)\n",
    "                \n",
    "df3.to_csv('sil_spc.csv', mode ='w')\n",
    "print(df3.nlargest(20,[\"Silhouette\"]))"
   ]
  },
  {
   "cell_type": "code",
   "execution_count": 13,
   "metadata": {},
   "outputs": [
    {
     "name": "stderr",
     "output_type": "stream",
     "text": [
      "\n",
      "\n",
      "\n",
      "  0%|                                                                                           | 0/19 [00:00<?, ?it/s]\u001b[A\u001b[A\u001b[A\n",
      "\n",
      "\n",
      "  5%|████▎                                                                              | 1/19 [00:04<01:21,  4.51s/it]\u001b[A\u001b[A\u001b[A\n",
      "\n",
      "\n",
      " 11%|████████▋                                                                          | 2/19 [00:08<01:15,  4.46s/it]\u001b[A\u001b[A\u001b[A\n",
      "\n",
      "\n",
      " 16%|█████████████                                                                      | 3/19 [00:14<01:16,  4.79s/it]\u001b[A\u001b[A\u001b[A\n",
      "\n",
      "\n",
      " 21%|█████████████████▍                                                                 | 4/19 [00:24<01:37,  6.50s/it]\u001b[A\u001b[A\u001b[A\n",
      "\n",
      "\n",
      " 26%|█████████████████████▊                                                             | 5/19 [00:39<02:03,  8.83s/it]\u001b[A\u001b[A\u001b[A\n",
      "\n",
      "\n",
      " 32%|██████████████████████████▏                                                        | 6/19 [00:59<02:39, 12.28s/it]\u001b[A\u001b[A\u001b[A\n",
      "\n",
      "\n",
      " 37%|██████████████████████████████▌                                                    | 7/19 [01:30<03:35, 17.95s/it]\u001b[A\u001b[A\u001b[A\n",
      "\n",
      "\n",
      " 42%|██████████████████████████████████▉                                                | 8/19 [02:01<03:59, 21.80s/it]\u001b[A\u001b[A\u001b[A\n",
      "\n",
      "\n",
      " 47%|███████████████████████████████████████▎                                           | 9/19 [02:31<04:02, 24.24s/it]\u001b[A\u001b[A\u001b[A\n",
      "\n",
      "\n",
      " 53%|███████████████████████████████████████████▏                                      | 10/19 [03:03<04:00, 26.70s/it]\u001b[A\u001b[A\u001b[A\n",
      "\n",
      "\n",
      " 58%|███████████████████████████████████████████████▍                                  | 11/19 [03:31<03:36, 27.11s/it]\u001b[A\u001b[A\u001b[A\n",
      "\n",
      "\n",
      " 63%|███████████████████████████████████████████████████▊                              | 12/19 [03:58<03:08, 27.00s/it]\u001b[A\u001b[A\u001b[A\n",
      "\n",
      "\n",
      " 68%|████████████████████████████████████████████████████████                          | 13/19 [04:27<02:44, 27.45s/it]\u001b[A\u001b[A\u001b[A\n",
      "\n",
      "\n",
      " 74%|████████████████████████████████████████████████████████████▍                     | 14/19 [04:59<02:24, 28.89s/it]\u001b[A\u001b[A\u001b[A\n",
      "\n",
      "\n",
      " 79%|████████████████████████████████████████████████████████████████▋                 | 15/19 [05:23<01:49, 27.45s/it]\u001b[A\u001b[A\u001b[A\n",
      "\n",
      "\n",
      " 84%|█████████████████████████████████████████████████████████████████████             | 16/19 [05:52<01:24, 28.03s/it]\u001b[A\u001b[A\u001b[A\n",
      "\n",
      "\n",
      " 89%|█████████████████████████████████████████████████████████████████████████▎        | 17/19 [06:24<00:58, 29.15s/it]\u001b[A\u001b[A\u001b[A\n",
      "\n",
      "\n",
      " 95%|█████████████████████████████████████████████████████████████████████████████▋    | 18/19 [06:47<00:27, 27.39s/it]\u001b[A\u001b[A\u001b[A\n",
      "\n",
      "\n",
      "100%|██████████████████████████████████████████████████████████████████████████████████| 19/19 [07:15<00:00, 22.94s/it]\u001b[A\u001b[A\u001b[A"
     ]
    },
    {
     "name": "stdout",
     "output_type": "stream",
     "text": [
      "    Silhouette  bandwiidth  clusters\n",
      "16       0.443         1.7       3.0\n",
      "18       0.411         1.9       3.0\n",
      "17       0.402         1.8       3.0\n",
      "14       0.365         1.5       4.0\n",
      "15       0.359         1.6       4.0\n",
      "13       0.354         1.4       5.0\n",
      "12       0.345         1.3       6.0\n",
      "11       0.324         1.2       9.0\n",
      "10       0.265         1.1      12.0\n",
      "9        0.261         1.0      16.0\n",
      "8        0.225         0.9      21.0\n",
      "7        0.168         0.8      38.0\n",
      "5        0.144         0.6     163.0\n",
      "4        0.144         0.5     389.0\n",
      "6        0.141         0.7      74.0\n",
      "3        0.140         0.4     849.0\n",
      "2        0.117         0.3    1673.0\n",
      "1        0.046         0.2    2341.0\n",
      "0        0.006         0.1    2489.0\n"
     ]
    },
    {
     "name": "stderr",
     "output_type": "stream",
     "text": [
      "\n"
     ]
    }
   ],
   "source": [
    "#meanshift Clusterig\n",
    "df3 = pd.DataFrame()\n",
    "from sklearn.cluster import MeanShift\n",
    "\n",
    "for i in tqdm(np.arange(0.1,2,0.1)):\n",
    "    clustering = MeanShift(bandwidth=i).fit(X_1)\n",
    "    labels = clustering.labels_\n",
    "    nCluster = len(set(labels))-(1 if -1 in labels else 0)\n",
    "    if nCluster >1 :\n",
    "        score = silhouette_score(X_1, labels)\n",
    "        df3 = df3.append({'clusters': nCluster, \"bandwiidth\": i, 'Silhouette': round(score,3)}, ignore_index = True)\n",
    "    else: \n",
    "        pass\n",
    "df3.to_csv('sil_mesh.csv', mode ='w')\n",
    "print(df3.nlargest(20,[\"Silhouette\"]))"
   ]
  },
  {
   "cell_type": "code",
   "execution_count": null,
   "metadata": {},
   "outputs": [],
   "source": [
    "# plot the cost against K values \n",
    "cost = df3['Silhouette']\n",
    "\n",
    "fig, ax = plt.subplots()\n",
    "plt.plot(np.arange(0.1,2,0.1), cost, color ='b', linewidth ='3') \n",
    "plt.xlabel(\"Value of K\") \n",
    "plt.ylabel(\"Sqaured Error (Cost)\") \n",
    "ax.spines['right'].set_visible(False)\n",
    "ax.spines['top'].set_visible(False)\n",
    "ax.yaxis.set_ticks_position('left')\n",
    "ax.xaxis.set_ticks_position('bottom')\n",
    "plt.xticks(np.arange(0.1,2, step = 0.1))\n",
    "plt.show() # clear the plot \n",
    "kneedle = KneeLocator(np.arange(0.1,2,0.1), cost, S=1.0, curve=\"convex\", direction=\"decreasing\")\n",
    "print(\"The selected value of K is {}\".format(round(kneedle.knee, 3)))"
   ]
  },
  {
   "cell_type": "code",
   "execution_count": 15,
   "metadata": {},
   "outputs": [
    {
     "name": "stderr",
     "output_type": "stream",
     "text": [
      "\n",
      "\n",
      "\n",
      "  0%|                                                                                           | 0/24 [00:00<?, ?it/s]\u001b[A\u001b[A\u001b[A\n",
      "\n",
      "\n",
      "  4%|███▍                                                                               | 1/24 [00:00<00:11,  1.97it/s]\u001b[A\u001b[A\u001b[A\n",
      "\n",
      "\n",
      "  8%|██████▉                                                                            | 2/24 [00:00<00:10,  2.00it/s]\u001b[A\u001b[A\u001b[A\n",
      "\n",
      "\n",
      " 12%|██████████▍                                                                        | 3/24 [00:01<00:10,  2.02it/s]\u001b[A\u001b[A\u001b[A\n",
      "\n",
      "\n",
      " 17%|█████████████▊                                                                     | 4/24 [00:01<00:09,  2.02it/s]\u001b[A\u001b[A\u001b[A\n",
      "\n",
      "\n",
      " 21%|█████████████████▎                                                                 | 5/24 [00:02<00:09,  1.92it/s]\u001b[A\u001b[A\u001b[A\n",
      "\n",
      "\n",
      " 25%|████████████████████▊                                                              | 6/24 [00:03<00:09,  1.94it/s]\u001b[A\u001b[A\u001b[A\n",
      "\n",
      "\n",
      " 29%|████████████████████████▏                                                          | 7/24 [00:03<00:09,  1.88it/s]\u001b[A\u001b[A\u001b[A\n",
      "\n",
      "\n",
      " 33%|███████████████████████████▋                                                       | 8/24 [00:04<00:08,  1.93it/s]\u001b[A\u001b[A\u001b[A\n",
      "\n",
      "\n",
      " 38%|███████████████████████████████▏                                                   | 9/24 [00:04<00:07,  1.93it/s]\u001b[A\u001b[A\u001b[A\n",
      "\n",
      "\n",
      " 42%|██████████████████████████████████▏                                               | 10/24 [00:05<00:07,  1.99it/s]\u001b[A\u001b[A\u001b[A\n",
      "\n",
      "\n",
      " 46%|█████████████████████████████████████▌                                            | 11/24 [00:05<00:06,  2.05it/s]\u001b[A\u001b[A\u001b[A\n",
      "\n",
      "\n",
      " 50%|█████████████████████████████████████████                                         | 12/24 [00:06<00:05,  2.02it/s]\u001b[A\u001b[A\u001b[A\n",
      "\n",
      "\n",
      " 54%|████████████████████████████████████████████▍                                     | 13/24 [00:06<00:05,  2.03it/s]\u001b[A\u001b[A\u001b[A\n",
      "\n",
      "\n",
      " 58%|███████████████████████████████████████████████▊                                  | 14/24 [00:07<00:05,  1.98it/s]\u001b[A\u001b[A\u001b[A\n",
      "\n",
      "\n",
      " 62%|███████████████████████████████████████████████████▎                              | 15/24 [00:07<00:04,  1.99it/s]\u001b[A\u001b[A\u001b[A\n",
      "\n",
      "\n",
      " 67%|██████████████████████████████████████████████████████▋                           | 16/24 [00:08<00:04,  1.90it/s]\u001b[A\u001b[A\u001b[A\n",
      "\n",
      "\n",
      " 71%|██████████████████████████████████████████████████████████                        | 17/24 [00:08<00:03,  1.82it/s]\u001b[A\u001b[A\u001b[A\n",
      "\n",
      "\n",
      " 75%|█████████████████████████████████████████████████████████████▌                    | 18/24 [00:09<00:03,  1.90it/s]\u001b[A\u001b[A\u001b[A\n",
      "\n",
      "\n",
      " 79%|████████████████████████████████████████████████████████████████▉                 | 19/24 [00:09<00:02,  1.93it/s]\u001b[A\u001b[A\u001b[A\n",
      "\n",
      "\n",
      " 83%|████████████████████████████████████████████████████████████████████▎             | 20/24 [00:10<00:02,  1.97it/s]\u001b[A\u001b[A\u001b[A\n",
      "\n",
      "\n",
      " 88%|███████████████████████████████████████████████████████████████████████▊          | 21/24 [00:10<00:01,  2.02it/s]\u001b[A\u001b[A\u001b[A\n",
      "\n",
      "\n",
      " 92%|███████████████████████████████████████████████████████████████████████████▏      | 22/24 [00:11<00:00,  2.01it/s]\u001b[A\u001b[A\u001b[A\n",
      "\n",
      "\n",
      " 96%|██████████████████████████████████████████████████████████████████████████████▌   | 23/24 [00:11<00:00,  2.07it/s]\u001b[A\u001b[A\u001b[A\n",
      "\n",
      "\n",
      "100%|██████████████████████████████████████████████████████████████████████████████████| 24/24 [00:12<00:00,  1.97it/s]\u001b[A\u001b[A\u001b[A"
     ]
    },
    {
     "name": "stdout",
     "output_type": "stream",
     "text": [
      "    Silhouette  clusters\n",
      "0        0.444       2.0\n",
      "4        0.244       6.0\n",
      "3        0.242       5.0\n",
      "1        0.238       3.0\n",
      "5        0.230       7.0\n",
      "2        0.223       4.0\n",
      "6        0.207       8.0\n",
      "7        0.204       9.0\n",
      "9        0.174      11.0\n",
      "8        0.173      10.0\n",
      "10       0.160      12.0\n",
      "17       0.146      19.0\n",
      "18       0.146      20.0\n",
      "11       0.143      13.0\n",
      "13       0.143      15.0\n",
      "14       0.142      16.0\n",
      "16       0.142      18.0\n",
      "15       0.141      17.0\n",
      "12       0.138      14.0\n",
      "21       0.135      23.0\n"
     ]
    },
    {
     "name": "stderr",
     "output_type": "stream",
     "text": [
      "\n"
     ]
    }
   ],
   "source": [
    "#BRICH clustering\n",
    "df3 = pd.DataFrame()\n",
    "from sklearn.cluster import Birch\n",
    "\n",
    "for i in tqdm(range(2, 26,1)):\n",
    "    clustering = Birch(n_clusters=i).fit(X_1)\n",
    "    labels = clustering.predict(X_1)\n",
    "    nCluster = len(set(labels))-(1 if -1 in labels else 0)\n",
    "    score = silhouette_score(X1, labels)\n",
    "    df3 = df3.append({'clusters': nCluster, 'Silhouette': round(score,3)}, ignore_index = True)\n",
    "                \n",
    "df3.to_csv('sil_brich.csv', mode ='w')\n",
    "print(df3.nlargest(20,[\"Silhouette\"]))"
   ]
  },
  {
   "cell_type": "code",
   "execution_count": null,
   "metadata": {},
   "outputs": [],
   "source": [
    "# plot the cost against K values \n",
    "cost = df3['Silhouette']\n",
    "\n",
    "fig, ax = plt.subplots()\n",
    "plt.plot(range(2,26,1), cost, color ='b', linewidth ='3') \n",
    "plt.xlabel(\"Value of K\") \n",
    "plt.ylabel(\"Sqaured Error (Cost)\") \n",
    "ax.spines['right'].set_visible(False)\n",
    "ax.spines['top'].set_visible(False)\n",
    "ax.yaxis.set_ticks_position('left')\n",
    "ax.xaxis.set_ticks_position('bottom')\n",
    "plt.xticks(range(2,26,1))\n",
    "plt.show() # clear the plot \n",
    "kneedle = KneeLocator(range(2,26,1), cost, S=1.0, curve=\"convex\", direction=\"decreasing\")\n"
   ]
  },
  {
   "cell_type": "code",
   "execution_count": null,
   "metadata": {},
   "outputs": [],
   "source": []
  },
  {
   "cell_type": "code",
   "execution_count": null,
   "metadata": {},
   "outputs": [],
   "source": []
  },
  {
   "cell_type": "code",
   "execution_count": null,
   "metadata": {},
   "outputs": [],
   "source": [
    "x = np.arange(10)\n",
    "y = np.arange(10)\n",
    "\n",
    "plt.xticks(x, \" \")\n",
    "plt.yticks(\" \")\n",
    "\n",
    "plt.plot(x, y)\n"
   ]
  },
  {
   "cell_type": "code",
   "execution_count": null,
   "metadata": {},
   "outputs": [],
   "source": []
  },
  {
   "cell_type": "code",
   "execution_count": null,
   "metadata": {},
   "outputs": [],
   "source": []
  }
 ],
 "metadata": {
  "kernelspec": {
   "display_name": "Python 3",
   "language": "python",
   "name": "python3"
  },
  "language_info": {
   "codemirror_mode": {
    "name": "ipython",
    "version": 3
   },
   "file_extension": ".py",
   "mimetype": "text/x-python",
   "name": "python",
   "nbconvert_exporter": "python",
   "pygments_lexer": "ipython3",
   "version": "3.7.6"
  }
 },
 "nbformat": 4,
 "nbformat_minor": 4
}
